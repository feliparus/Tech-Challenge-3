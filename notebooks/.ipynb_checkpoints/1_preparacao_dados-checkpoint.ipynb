{
 "cells": [
  {
   "cell_type": "code",
   "execution_count": 1,
   "id": "a1dd378d-ca8a-4389-bacf-238adb0256a4",
   "metadata": {},
   "outputs": [
    {
     "name": "stdout",
     "output_type": "stream",
     "text": [
      "Defaulting to user installation because normal site-packages is not writeable\n",
      "Requirement already satisfied: deep-translator in c:\\users\\luiz.santos\\appdata\\roaming\\python\\python312\\site-packages (from -r ../requirements.txt (line 2)) (1.11.4)\n",
      "Requirement already satisfied: faiss-cpu in c:\\users\\luiz.santos\\appdata\\roaming\\python\\python312\\site-packages (from -r ../requirements.txt (line 5)) (1.8.0.post1)\n",
      "Requirement already satisfied: gdown in c:\\users\\luiz.santos\\appdata\\roaming\\python\\python312\\site-packages (from -r ../requirements.txt (line 8)) (5.2.0)\n",
      "Requirement already satisfied: numpy in c:\\users\\luiz.santos\\appdata\\roaming\\python\\python312\\site-packages (from -r ../requirements.txt (line 11)) (1.26.4)\n",
      "Requirement already satisfied: pandas in c:\\users\\luiz.santos\\appdata\\roaming\\python\\python312\\site-packages (from -r ../requirements.txt (line 14)) (2.2.2)\n",
      "Requirement already satisfied: pyarrow in c:\\users\\luiz.santos\\appdata\\roaming\\python\\python312\\site-packages (from -r ../requirements.txt (line 17)) (17.0.0)\n",
      "Requirement already satisfied: tqdm in c:\\users\\luiz.santos\\appdata\\roaming\\python\\python312\\site-packages (from -r ../requirements.txt (line 20)) (4.66.5)\n",
      "Requirement already satisfied: transformers in c:\\users\\luiz.santos\\appdata\\roaming\\python\\python312\\site-packages (from -r ../requirements.txt (line 23)) (4.44.2)\n",
      "Requirement already satisfied: beautifulsoup4<5.0.0,>=4.9.1 in c:\\users\\luiz.santos\\appdata\\roaming\\python\\python312\\site-packages (from deep-translator->-r ../requirements.txt (line 2)) (4.12.3)\n",
      "Requirement already satisfied: requests<3.0.0,>=2.23.0 in c:\\users\\luiz.santos\\appdata\\roaming\\python\\python312\\site-packages (from deep-translator->-r ../requirements.txt (line 2)) (2.32.3)\n",
      "Requirement already satisfied: packaging in c:\\users\\luiz.santos\\appdata\\roaming\\python\\python312\\site-packages (from faiss-cpu->-r ../requirements.txt (line 5)) (24.1)\n",
      "Requirement already satisfied: filelock in c:\\users\\luiz.santos\\appdata\\roaming\\python\\python312\\site-packages (from gdown->-r ../requirements.txt (line 8)) (3.15.4)\n",
      "Requirement already satisfied: python-dateutil>=2.8.2 in c:\\users\\luiz.santos\\appdata\\roaming\\python\\python312\\site-packages (from pandas->-r ../requirements.txt (line 14)) (2.9.0)\n",
      "Requirement already satisfied: pytz>=2020.1 in c:\\users\\luiz.santos\\appdata\\roaming\\python\\python312\\site-packages (from pandas->-r ../requirements.txt (line 14)) (2024.1)\n",
      "Requirement already satisfied: tzdata>=2022.7 in c:\\users\\luiz.santos\\appdata\\roaming\\python\\python312\\site-packages (from pandas->-r ../requirements.txt (line 14)) (2024.1)\n",
      "Requirement already satisfied: colorama in c:\\users\\luiz.santos\\appdata\\roaming\\python\\python312\\site-packages (from tqdm->-r ../requirements.txt (line 20)) (0.4.6)\n",
      "Requirement already satisfied: huggingface-hub<1.0,>=0.23.2 in c:\\users\\luiz.santos\\appdata\\roaming\\python\\python312\\site-packages (from transformers->-r ../requirements.txt (line 23)) (0.24.6)\n",
      "Requirement already satisfied: pyyaml>=5.1 in c:\\users\\luiz.santos\\appdata\\roaming\\python\\python312\\site-packages (from transformers->-r ../requirements.txt (line 23)) (6.0.2)\n",
      "Requirement already satisfied: regex!=2019.12.17 in c:\\users\\luiz.santos\\appdata\\roaming\\python\\python312\\site-packages (from transformers->-r ../requirements.txt (line 23)) (2024.7.24)\n",
      "Requirement already satisfied: safetensors>=0.4.1 in c:\\users\\luiz.santos\\appdata\\roaming\\python\\python312\\site-packages (from transformers->-r ../requirements.txt (line 23)) (0.4.4)\n",
      "Requirement already satisfied: tokenizers<0.20,>=0.19 in c:\\users\\luiz.santos\\appdata\\roaming\\python\\python312\\site-packages (from transformers->-r ../requirements.txt (line 23)) (0.19.1)\n",
      "Requirement already satisfied: soupsieve>1.2 in c:\\users\\luiz.santos\\appdata\\roaming\\python\\python312\\site-packages (from beautifulsoup4<5.0.0,>=4.9.1->deep-translator->-r ../requirements.txt (line 2)) (2.6)\n",
      "Requirement already satisfied: fsspec>=2023.5.0 in c:\\users\\luiz.santos\\appdata\\roaming\\python\\python312\\site-packages (from huggingface-hub<1.0,>=0.23.2->transformers->-r ../requirements.txt (line 23)) (2024.6.1)\n",
      "Requirement already satisfied: typing-extensions>=3.7.4.3 in c:\\users\\luiz.santos\\appdata\\roaming\\python\\python312\\site-packages (from huggingface-hub<1.0,>=0.23.2->transformers->-r ../requirements.txt (line 23)) (4.12.2)\n",
      "Requirement already satisfied: six>=1.5 in c:\\users\\luiz.santos\\appdata\\roaming\\python\\python312\\site-packages (from python-dateutil>=2.8.2->pandas->-r ../requirements.txt (line 14)) (1.16.0)\n",
      "Requirement already satisfied: charset-normalizer<4,>=2 in c:\\users\\luiz.santos\\appdata\\roaming\\python\\python312\\site-packages (from requests<3.0.0,>=2.23.0->deep-translator->-r ../requirements.txt (line 2)) (3.3.2)\n",
      "Requirement already satisfied: idna<4,>=2.5 in c:\\users\\luiz.santos\\appdata\\roaming\\python\\python312\\site-packages (from requests<3.0.0,>=2.23.0->deep-translator->-r ../requirements.txt (line 2)) (2.10)\n",
      "Requirement already satisfied: urllib3<3,>=1.21.1 in c:\\users\\luiz.santos\\appdata\\roaming\\python\\python312\\site-packages (from requests<3.0.0,>=2.23.0->deep-translator->-r ../requirements.txt (line 2)) (2.2.2)\n",
      "Requirement already satisfied: certifi>=2017.4.17 in c:\\users\\luiz.santos\\appdata\\roaming\\python\\python312\\site-packages (from requests<3.0.0,>=2.23.0->deep-translator->-r ../requirements.txt (line 2)) (2024.7.4)\n",
      "Requirement already satisfied: PySocks!=1.5.7,>=1.5.6 in c:\\users\\luiz.santos\\appdata\\roaming\\python\\python312\\site-packages (from requests[socks]->gdown->-r ../requirements.txt (line 8)) (1.7.1)\n"
     ]
    }
   ],
   "source": [
    "!pip install -r \"../requirements.txt\""
   ]
  },
  {
   "cell_type": "code",
   "execution_count": 2,
   "id": "e4c5b2ef-dd7f-40f6-ab32-70cd158c5e23",
   "metadata": {},
   "outputs": [],
   "source": [
    "from include.utils import *\n",
    "\n",
    "import numpy as np\n",
    "import os\n",
    "import pandas as pd"
   ]
  },
  {
   "cell_type": "markdown",
   "id": "bddac593-1da8-4f0e-9c3e-3ea4a33f8571",
   "metadata": {},
   "source": [
    "**Declaração de variáveis**"
   ]
  },
  {
   "cell_type": "markdown",
   "id": "9eafb100-8d9b-4ee0-bc81-9a2e9157ac9f",
   "metadata": {},
   "source": [
    "Nesta seção, preparamos as variáveis necessárias para sequência do Tech Challenge.\n",
    "\n",
    "Para geração do json em um dataset, decidimos usar parquet. O formato Parquet é eficiente em termos de armazenamento e desempenho, utilizando compactação e codificação colunar para reduzir o tamanho dos arquivos e melhorar a leitura e escrita. Ele suporta tipos de dados complexos e é amplamente compatível com ferramentas de big data, tornando-o ideal para grandes volumes de dados e análises rápidas."
   ]
  },
  {
   "cell_type": "code",
   "execution_count": 3,
   "id": "80b5a021-5531-4ffa-90a6-6248334f3f0e",
   "metadata": {},
   "outputs": [],
   "source": [
    "# Obtém a largura do terminal - uso mais embaixo nos prints\n",
    "terminal_width = os.get_terminal_size().columns\n",
    "\n",
    "url = 'https://drive.google.com/uc?id=12zH4mL2RX8iSvH0VCNnd3QxO4DzuHWnK'\n",
    "gz_file_para_extrair = 'LF-Amazon-1.3M/trn.json.gz'\n",
    "\n",
    "diretorio_arquivos = '../arquivos'\n",
    "json_file_para_extrair = 'trn.json'\n",
    "\n",
    "json_file_path = os.path.join(diretorio_arquivos, json_file_para_extrair)\n",
    "parquet_file_path = os.path.join(diretorio_arquivos, \"trn.parquet\")"
   ]
  },
  {
   "cell_type": "markdown",
   "id": "bb214e39-56dc-47b8-bb95-934137e99246",
   "metadata": {},
   "source": [
    "**Tratamento arquivo alvo json**"
   ]
  },
  {
   "cell_type": "markdown",
   "id": "d499f82b-0847-4e8f-a2bc-3b4a6dc62efb",
   "metadata": {},
   "source": [
    "Verificamos se o arquivo JSON já existe. Se não, baixamos e extraímos o arquivo necessário. Após garantir que o arquivo JSON está disponível, contamos e exibimos o número total de linhas nele."
   ]
  },
  {
   "cell_type": "code",
   "execution_count": 4,
   "id": "fec32475-3fd1-435b-9df6-27b94703fa60",
   "metadata": {},
   "outputs": [
    {
     "name": "stdout",
     "output_type": "stream",
     "text": [
      "Número total de linhas no json: 2248619\n"
     ]
    }
   ],
   "source": [
    "# Verificar se o arquivo JSON já existe\n",
    "if not os.path.exists(json_file_path):\n",
    "    # Executando o download e extração\n",
    "    zip_data = baixar_arquivo_zip(url)\n",
    "    extracted_file_path = extrair_arquivo_gz_do_zip(zip_data, gz_file_para_extrair, diretorio_arquivos, json_file_para_extrair)\n",
    "else:\n",
    "    extracted_file_path = json_file_path\n",
    "\n",
    "total_linhas_json = contar_linhas_json(extracted_file_path)\n",
    "print(f\"Número total de linhas no json: {total_linhas_json}\")"
   ]
  },
  {
   "cell_type": "markdown",
   "id": "1a3096d0-0081-47bd-92a1-fadd83d860a0",
   "metadata": {},
   "source": [
    "**Geração dataset para finetunning e rag**"
   ]
  },
  {
   "cell_type": "markdown",
   "id": "d1f18930-8f96-4d2c-b735-1b0eed6d1d20",
   "metadata": {},
   "source": [
    "Verificamos se o arquivo Parquet já existe. Se não, lemos o arquivo JSON extraído, removemos colunas desnecessárias para reduzir o tamanho do DataFrame e salvamos o DataFrame em um arquivo Parquet. Se o arquivo Parquet já existir, carregamos o DataFrame diretamente dele."
   ]
  },
  {
   "cell_type": "code",
   "execution_count": 5,
   "id": "3c2e70ca-8c6e-4d5d-b6db-b6fd437ab254",
   "metadata": {},
   "outputs": [
    {
     "name": "stderr",
     "output_type": "stream",
     "text": [
      "Lendo JSON: 2.62GB [02:35, 16.9MB/s]                                                                                                             \n",
      "Salvando DataFrame: 100%|█████████████████████████████████████████████████████████████████████████| 2248619/2248619 [01:33<00:00, 23995.48rows/s]"
     ]
    },
    {
     "name": "stdout",
     "output_type": "stream",
     "text": [
      "../arquivos\\trn.parquet salvo com sucesso!\n"
     ]
    },
    {
     "name": "stderr",
     "output_type": "stream",
     "text": [
      "\n"
     ]
    }
   ],
   "source": [
    "# Verifica se o arquivo Parquet já existe\n",
    "if not os.path.exists(parquet_file_path):\n",
    "    # Lendo o arquivo JSON extraído usando Pandas\n",
    "    dados = read_large_json_with_pandas(extracted_file_path, num_lines=None)  # Lê todo o arquivo JSON\n",
    "    dados.drop(columns=['uid','target_ind', 'target_rel'], inplace=True) # removendo as colunas desnecessárias\n",
    "    \n",
    "    save_dataframe(dados, parquet_file_path)  # Salva o DataFrame em um arquivo Parquet\n",
    "else:\n",
    "    # Carregar o DataFrame do arquivo Parquet existente\n",
    "    dados = load_dataframe(parquet_file_path)"
   ]
  },
  {
   "cell_type": "code",
   "execution_count": 6,
   "id": "6099b386-a667-497f-a8f3-519e96f3ac91",
   "metadata": {},
   "outputs": [
    {
     "name": "stdout",
     "output_type": "stream",
     "text": [
      "\n",
      "Lista de todas colunas:\n",
      "\n",
      " ['title', 'content']\n",
      "--------------------------------------------------------------------------------------------------------------------------------------------------\n",
      "\n",
      "Amostra dos dados:\n",
      "\n",
      "                                                title  \\\n",
      "0                        Girls Ballet Tutu Neon Pink   \n",
      "1                           Adult Ballet Tutu Yellow   \n",
      "2  The Way Things Work: An Illustrated Encycloped...   \n",
      "3                                      Mog's Kittens   \n",
      "4                              Misty of Chincoteague   \n",
      "\n",
      "                                             content  \n",
      "0  High quality 3 layer ballet tutu. 12 inches in...  \n",
      "1                                                     \n",
      "2                                                     \n",
      "3  Judith Kerr&#8217;s best&#8211;selling adventu...  \n",
      "4                                                     \n",
      "--------------------------------------------------------------------------------------------------------------------------------------------------\n",
      "\n",
      "Quantidade de linhas: 2248619. Quantidade de colunas: 2\n",
      "--------------------------------------------------------------------------------------------------------------------------------------------------\n",
      "\n",
      "Tipos de dados das colunas:\n",
      "\n",
      " title      object\n",
      "content    object\n",
      "dtype: object\n",
      "--------------------------------------------------------------------------------------------------------------------------------------------------\n",
      "\n",
      "Quantidade de valores ausentes por coluna:\n",
      "\n",
      " title      0\n",
      "content    0\n",
      "dtype: int64\n"
     ]
    }
   ],
   "source": [
    "# Imprimindo detalhes necessários\n",
    "print(\"\\nLista de todas colunas:\\n\\n\", list(dados))\n",
    "print('-' * terminal_width)\n",
    "print(\"\\nAmostra dos dados:\\n\\n\", dados.head())\n",
    "print('-' * terminal_width)\n",
    "print(f\"\\nQuantidade de linhas: {dados.shape[0]}. Quantidade de colunas: {dados.shape[1]}\")\n",
    "print('-' * terminal_width)\n",
    "print(\"\\nTipos de dados das colunas:\\n\\n\", dados.dtypes)\n",
    "print('-' * terminal_width)\n",
    "print(\"\\nQuantidade de valores ausentes por coluna:\\n\\n\", dados.isnull().sum())"
   ]
  },
  {
   "cell_type": "code",
   "execution_count": 7,
   "id": "9041dfa7-a602-4578-8924-773fdb5dbed9",
   "metadata": {},
   "outputs": [
    {
     "name": "stdout",
     "output_type": "stream",
     "text": [
      "Linha 1: Título: Adult Ballet Tutu Yellow\n",
      "Linha 2: Título: The Way Things Work: An Illustrated Encyclopedia of Technology\n",
      "Linha 3: Título: Misty of Chincoteague\n",
      "Linha 4: Título: Hilda Boswell's treasury of children's stories: A new anthology of stories for the young\n",
      "Linha 5: Título: The Simple Truths of Service: Inspired by Johnny the Bagger\n",
      "Linha 6: Título: Evaluating Research in Academic Journals - A Practical Guide to Realistic Evaluation (5th Fifth Edition) - By Fred Pyrczak\n",
      "Linha 7: Título: Dr. Seuss ABC (Dr.Seuss Classic Collection) (Spanish Edition)\n",
      "Linha 8: Título: Noddy Story Book Treasury\n",
      "Linha 9: Título: The Book of Daniel\n",
      "Linha 10: Título: Mksap 16 Audio Companion: Medical Knowledge Self-Assessment Program\n",
      "Linha 11: Título: The Bayeux Tapestry: The Norman Conquest 1066\n",
      "Linha 12: Título: Hilda Boswell's Treasury of Fairy Tales\n",
      "Linha 13: Título: Tales from Brambly Hedge\n",
      "Linha 14: Título: Crash of Hennington\n",
      "Linha 15: Título: The Collected Short Stories of Louis L'Amour - The Frontier Stories Volume 3\n",
      "Linha 16: Título: Do Look Out, Noddy! (Noddy Classic Library)\n",
      "Linha 17: Título: For Whom the Bell Tolls\n",
      "Linha 18: Título: The Collected Short Stories of Louis L'amour (The Adventure Stories, Volume 4)\n",
      "Linha 19: Título: GOLD DIGGERS~STRIKING IT RICH IN THE KLONDIKE\n",
      "Linha 20: Título: Noddy at the Seaside (Noddy Classic Library)\n"
     ]
    }
   ],
   "source": [
    "# Filtrar as linhas que estão vazias na coluna 'content'\n",
    "conteudos_vazios = dados[dados['content'].isna() | (dados['content'] == '')]\n",
    "\n",
    "# Exibir o título das primeiras 20 linhas vazias\n",
    "for i, title in enumerate(conteudos_vazios.head(20)['title'], start=1):\n",
    "    print(f\"Linha {i}: Título: {title}\")"
   ]
  },
  {
   "cell_type": "code",
   "execution_count": 8,
   "id": "3c144e35-f081-4e3e-91b4-0b88c92ef6a5",
   "metadata": {},
   "outputs": [
    {
     "name": "stdout",
     "output_type": "stream",
     "text": [
      "Linha 1: High quality 3 layer ballet tutu. 12 inches in length\n",
      "\n",
      "Linha 2: Judith Kerr&#8217;s best&#8211;selling adventures of that endearing (and exasperating) cat Mog have entertained children for more than 30 years. Now, even infants and toddlers can enjoy meeting this loveable feline. These sturdy little board books&#8212;with their bright, simple pictures, easy text, and hand&#8211;friendly formats&#8212;are just the thing to delight the very young. Ages 6 months&#8211;2 years.\n",
      "\n",
      "Linha 3: Dance tutu for girls ages 2-8 years. Perfect for dance practice, recitals and performances, costumes or just for fun!\n",
      "\n",
      "Linha 4: In a distant, timeless place, a mysterious prophet walks the sands. At the moment of his departure, he wishes to offer the people gifts but possesses nothing. The people gather round, each asks a question of the heart, and the man's wisdom is his gift. It is Gibran's gift to us, as well, for Gibran's prophet is rivaled in his wisdom only by the founders of the world's great religions. On the most basic topics--marriage, children, friendship, work, pleasure--his words have a power and lucidity that in another era would surely have provoked the description \"divinely inspired.\" Free of dogma, free of power structures and metaphysics, consider these poetic, moving aphorisms a 20th-century supplement to all sacred traditions--as millions of other readers already have.--Brian Bruya--This text refers to theHardcoveredition.\n",
      "\n",
      "Linha 5: --This text refers to thePaperbackedition.\n",
      "\n",
      "Linha 6: Worship with Don Moen [VHS]\n",
      "\n",
      "Linha 7: \"!the most research-crammed fantasy ever set before small children!\" Sunday Times Magazine\n",
      "\n",
      "Linha 8: You can flow effortlessly and powerfully in the gifts of the Holy Spirit today! Join Joseph Prince as he expounds on the nine gifts of the Holy Spirit and be encouraged to know that every believer-including you-can operate in these grace gifts. Understand how the Spirit leads you in using these gifts and why ministering in love is so important. Discover the secret to stepping out in faith and love, and moving super-naturally in the Spirit. Find out also what your gifts are and how to flow in them. Whether it's in the area of your family, ministry or work, the messages in this powerful DVD resource will stir your faith and help you to operate and minister in the power of the Holy Spirit! 6-DVD Set(7 Sermons-approx. total duration: 5hr 47min)\n",
      "\n",
      "Linha 9: By Marilyn Sadler, Illustrated by Roger Bollen\n",
      "\n",
      "Linha 10: Jill Barklem was born in Epping in 1951. After an accident when she was thirteen, Jill was unable to take part in PE or games at school and instead developed her talent for drawing and art. On leaving school, she studied illustration at St Martin's in London. Jill is now a full-time illustrator, working on the series of Brambly Hedge books.\n",
      "\n",
      "Linha 11: American Baptist pastor, Bible teacher, and writer, Clarence Larkin was born October 28, 1850, in Chester, Delaware County, Pennsylvania. He was converted to Christ at the age of 19 and then felt called to the Gospel ministry, but the doors of opportunity for study and ministry did not open immediately. He then got a job in a bank. When he was 21 years old, he left the bank and went to college, graduating as a mechanical engineer. He continued as a professional draftsman for a while, then he became a teacher of the blind. Later, failing health compelled him to give up his teaching career. After a prolonged rest, he became a manufacturer. When he was converted he had become a member of the Episcopal Church, but in 1882,he became a Baptist and was ordained as a Baptist minister two years later. He went directly from business into the ministry. His first charge was at Kennett Square, Pennsylvania; his second pastorate was at Fox Chase, Pennsylvania, where he remained for 20 years. He was not a premillennialist at the time of his ordination, but his study of the Scriptures, with the help of some books that fell into his hands, led him to adopt the premillennialist position. He began to make large wall charts, which he titled, \"\"Prophetic Truth,\"\" for use in the pulpit. These led to his being invited to teach, in connection with his pastoral work, in two Bible institutes. During this time he published a number of prophetical charts, which were widely circulated. When World War I broke out in 1914, he was called on for addresses on The War and Prophecy. Then God laid it on his heart to prepare a work on Dispensational Truth (or God's Plan and Purpose in the Ages), containing a number of charts with descriptive matter. He spent three years of his life designing and drawing the charts and preparing the text. The favorable reception it has had since it was first published in 1918 seems to indicate that the world was waiting for such a book. Because it had a large and wide circulation in this and other lands, the first edition was soon exhausted. It was followed by a second edition, and then, realizing that the book was of permanent value, Larkin revised it and expanded it, printing it in its present form. He went to be with the Lord on January 24, 1924.\"--This text refers to thePaperbackedition.\n",
      "\n",
      "Linha 12: \"An instant animal classic.\"   --Time\"Apart from its enormous scientific value, IN THE SHADOW OF MAN is absolutely fascinating to read as a story of discovery . . . The whole book is enthralling.\"  --Boston Globe\"I can't imagine a more vivid or unexpectedly moving introduction to chimpanzees in the wild than Jane Goodall's.\" -- George Stade  --The New York Times\"Jane Goodall's work with chimpanzees represents one of the Western world's great scientific achievements.\"   --Stephen Jay Gould--This text refers to an out of print or unavailable edition of this title.\n",
      "\n",
      "Linha 13: Widely known in Canada from hisMontreal Gazettecolumn, and work with the Discovery Channel, Schwarcz (Let Them Eat Flax) is an entertaining guide through the tangle of conflicting research studies, advertising claims, special interest groups, age-old myths and popular opinion that make diet a cloudy subject. In short chapters he aims his microscope at such highly touted foods as tomatoes, acai berries, curry and soy; additives like nitrites, artificial sweeteners, vitamins and fluoride; contaminants including pesticides, hormones, trans fats and dioxins; and what, for him, are suspect fads. Schwarcz contends that while there are no magical foods, a diet of mostly vegetables, fruits, whole grains and low-fat dairy products and moderation are key to good health. To help readers make informed choices, he ably cuts through many controversies and will likely stir up a few (he challenges those who condemn milk consumption, espouse detoxification and promote kosher foods, for example). Schwarcz makes learning fun by peppering his text with fascinating facts (coffee contains naturally occurring carcinogens, and apples have formaldehyde). More importantly, he leaves readers with a rational framework for evaluating the complex nature of foods and how they affect health.(Jan.)Copyright &copy; Reed Business Information, a division of Reed Elsevier Inc. All rights reserved.--This text refers to an alternateHardcoveredition.\n",
      "\n",
      "Linha 14: Text: English, French (translation)\n",
      "\n",
      "Linha 15: Text: English (translation)Original Language: German\n",
      "\n",
      "Linha 16: Though at first glance too luscious for the pots, pans and grease stains of the kitchen, this opulently illustrated oversize volume--travel book as much as recipe collection--can function there admirably, seducing the hungry and the restless. The latest in the publisher's series of regional cookbooks (others on Italy, China and Asia have preceded it), it will keep readers turning pages even if they never pick up a saucepan. Chapters alternate between discussing the different regions of France and offering a good selection of traditional recipes. French-born authors and cooks Marianne Comolli, Elisabeth Scotto and Michele Carles reflect on the history and geography of France with appetizers from Provence, entrees from Lyonnais and desserts from Anjou. This is hearty, not haute , cuisine: well-organized recipes are scaled for the average cook, who won't have to go in search of rare ingredients or spend hours chopping and mincing. Les soeurs Scotto make use of blenders and food processors when needed.Copyright 1989 Reed Business Information, Inc.\n",
      "\n",
      "Linha 17: The latest addition to this popular series is a colorful guide to Mexico's diverse regional cuisine. Palazuelos is an experienced chef/caterer, and her recipes are inviting, her headnotes informative; Ignacio Urquiza's photographs of the food are eyecatching but uncontrived. There are many unusual dishes here, both traditional and contemporary, and most are far more sophisticated than the Tex-Mex fare many Americans identify as Mexican food. A good companion to Patricia Quintana's The Taste of Mexico ( LJ 12/86); recommended for most collections.Copyright 1991 Reed Business Information, Inc.\n",
      "\n",
      "Linha 18: Ninety photographers (60 Western, 30 Chinese) fanned out across China on a single day--April 15, 1989--to take the pictures that make up this rare, candid glimpse of the world's most populous nation. The photos show us villages and farms and take us into homes, schools and factories. From a kaleidoscope of images--rice-planting brigades, a defendant in the dock on trial for murder, yaks on Main Street in one city--we get a feel for the contradictions and pressures of a modernizing society. Many of the photos are exceptionally beautiful; taken together, they reveal the diversity of this vast country, moving from the tent-like yurts of Mongolian nomads to a Tantric Buddhist monastery in occupied Tibet. The photo-essay concludes with a glimpse of protest posters that went up at Beijing University as students began to occupy Tiananmen Square, a tragically ironic conclusion in light of events that followed. First serial to Time; author tour.Copyright 1989 Reed Business Information, Inc.\n",
      "\n",
      "Linha 19: Fifth in the series that includes the best-selling Italy the Beautiful (Knapp, 1988) and France the Beautiful ( LJ 10/15/89), this big picture book features traditional recipes from around the country, very brief introductions to the various regions, and lots of color photographs. Recipes--grouped by courses of a meal rather than region--give little sense of regional identity; most are familiar and available elsewhere; the blown-up food photographs are more interesting than the postcard views of the country. Buy for demand. Better Homes & Gardens Book Club selection.Copyright 1990 Reed Business Information, Inc.\n",
      "\n",
      "Linha 20: In pre-WW I Paris, Picasso, Debussy, Gide, Proust, Henri Bergson and Pierre and Marie Curie were among the creative minds who helped forge the modern world view of a subjective, fluid reality. Cronin's achievement in this scintillating, highly enjoyable social and cultural history is to demonstrate how the various endeavors of these and other groundbreakers were interrelated. France's adaptation to unless France really developed it.aa the motor car changed Proust's way of life. A new subjectivism, spurred by Bergson's spiritual philosophy, made possible Debussy's exploration of musical nuance, Picasso and Braque's invention of Cubism, and poet Charles Peguy's vision of a socialist utopia. Mingling gossip, biography and astute commentary, this chronicle tracks Diaghilev, Colette, Mattise and a host of others. Cronin, biographer of Napoleon, argues persuasively that Parisians' chilly rancor toward Germans stemmed in part from France's sense of national pride. Do you mean: 'French national pride derived from winning the Franco-German rivalry over imperialist expansion in Africa.'?aa Photos.Copyright 1991 Reed Business Information, Inc.--This text refers to an out of print or unavailable edition of this title.\n",
      "\n"
     ]
    }
   ],
   "source": [
    "# Filtrar as linhas que não estão vazias e exibir as primeiras 20\n",
    "conteudos_nao_vazios = dados['content'].dropna().replace('', np.nan).dropna()\n",
    "\n",
    "# Exibir o conteúdo das primeiras 20 linhas não vazias\n",
    "for i, content in enumerate(conteudos_nao_vazios.head(20), start=1):\n",
    "    print(f\"Linha {i}: Título: {title}\\n\")\n",
    "    print(f\"Conteúdo: {content}\\n\")"
   ]
  },
  {
   "cell_type": "code",
   "execution_count": 9,
   "id": "5431502c-5031-46fa-8a8c-8ab36297b95e",
   "metadata": {},
   "outputs": [
    {
     "name": "stdout",
     "output_type": "stream",
     "text": [
      "Número de entradas com valor NaN na coluna 'content': 0\n",
      "Número de entradas com string vazia na coluna 'content': 749901\n",
      "Número de entradas restantes após remoção: 1498718\n"
     ]
    },
    {
     "name": "stderr",
     "output_type": "stream",
     "text": [
      "Salvando DataFrame: 100%|█████████████████████████████████████████████████████████████████████████| 1498718/1498718 [00:36<00:00, 40963.70rows/s]"
     ]
    },
    {
     "name": "stdout",
     "output_type": "stream",
     "text": [
      "../arquivos\\trn.parquet salvo com sucesso!\n"
     ]
    },
    {
     "name": "stderr",
     "output_type": "stream",
     "text": [
      "\n"
     ]
    }
   ],
   "source": [
    "num_empty_content = dados['content'].isna().sum()  # Contar valores NaN\n",
    "num_empty_strings = (dados['content'] == '').sum()  # Contar strings vazias\n",
    "\n",
    "print(f\"Número de entradas com valor NaN na coluna 'content': {num_empty_content}\")\n",
    "print(f\"Número de entradas com string vazia na coluna 'content': {num_empty_strings}\")\n",
    "\n",
    "# Filtrar e remover linhas com conteúdo vazio ou NaN na coluna 'content'\n",
    "dados_limpos = dados[~(dados['content'].isna() | (dados['content'] == ''))]\n",
    "\n",
    "# Verificar o número de linhas restantes após remoção\n",
    "num_linhas_restantes = len(dados_limpos)\n",
    "\n",
    "print(f\"Número de entradas restantes após remoção: {num_linhas_restantes}\")\n",
    "save_dataframe(dados_limpos, parquet_file_path)"
   ]
  }
 ],
 "metadata": {
  "kernelspec": {
   "display_name": "Python 3 (ipykernel)",
   "language": "python",
   "name": "python3"
  },
  "language_info": {
   "codemirror_mode": {
    "name": "ipython",
    "version": 3
   },
   "file_extension": ".py",
   "mimetype": "text/x-python",
   "name": "python",
   "nbconvert_exporter": "python",
   "pygments_lexer": "ipython3",
   "version": "3.12.4"
  }
 },
 "nbformat": 4,
 "nbformat_minor": 5
}
