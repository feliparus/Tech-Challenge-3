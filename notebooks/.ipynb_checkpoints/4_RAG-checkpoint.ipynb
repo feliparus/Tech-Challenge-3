{
 "cells": [
  {
   "cell_type": "code",
   "execution_count": 1,
   "id": "ad3c9455-4023-4a9d-91be-8c25ed99e12a",
   "metadata": {},
   "outputs": [],
   "source": [
    "from include.utils import *\n",
    "from transformers import DistilBertForSequenceClassification, DistilBertTokenizerFast\n",
    "\n",
    "import faiss\n",
    "import os\n",
    "import torch"
   ]
  },
  {
   "cell_type": "markdown",
   "id": "f5210d13-f08c-4fdf-9a75-898ac9b9a3ed",
   "metadata": {},
   "source": [
    "**Configurações iniciais**"
   ]
  },
  {
   "cell_type": "markdown",
   "id": "3eceadcf-32fb-4883-9030-c2b1566e6f48",
   "metadata": {},
   "source": [
    "Definimos os caminhos para os arquivos de dados e índice FAISS e carregamos o DataFrame do arquivo Parquet."
   ]
  },
  {
   "cell_type": "code",
   "execution_count": 2,
   "id": "a761bdd5-4150-4c5e-b273-cb87c1010919",
   "metadata": {},
   "outputs": [],
   "source": [
    "# Configurações\n",
    "diretorio_arquivos = '../arquivos'\n",
    "parquet_file_path = os.path.join(diretorio_arquivos, 'trn.parquet')\n",
    "diretorio_finetunning_modelo_final = os.path.join(diretorio_arquivos, 'finetunning','modelo_final')\n",
    "faiss_index_path = os.path.join(diretorio_arquivos,'embeddings','amazon_products_index.faiss')\n",
    "\n",
    "# Carregar DataFrame do Parquet\n",
    "dados = load_dataframe(parquet_file_path)\n",
    "\n",
    "# Configurações de amostragem\n",
    "batch_size = 100000\n",
    "use_sample = True\n",
    "\n",
    "# Amostrar dados se necessário\n",
    "if use_sample:\n",
    "    dados = dados.sample(n=batch_size, random_state=42)"
   ]
  },
  {
   "cell_type": "markdown",
   "id": "a84326fc-72b9-4486-b704-97d091539911",
   "metadata": {},
   "source": [
    "**Configuração e Carregamento**"
   ]
  },
  {
   "cell_type": "markdown",
   "id": "05831e3a-c881-4ddf-9df6-70abda083863",
   "metadata": {},
   "source": [
    "Carregamos o modelo e tokenizer finetuned, bem como o índice FAISS."
   ]
  },
  {
   "cell_type": "code",
   "execution_count": 3,
   "id": "99d02ea7-730c-4feb-9e59-8df79868d10c",
   "metadata": {},
   "outputs": [
    {
     "name": "stdout",
     "output_type": "stream",
     "text": [
      "Carregando modelo finetuned de ../arquivos\\finetunning\\modelo_final...\n",
      "Carregando índice FAISS de ../arquivos\\embeddings\\amazon_products_index.faiss...\n",
      "Índice FAISS carregado com 788 vetores.\n"
     ]
    }
   ],
   "source": [
    "# Carregamento do modelo e tokenizer finetuned\n",
    "print(f\"Carregando modelo finetuned de {diretorio_finetunning_modelo_final}...\")\n",
    "tokenizer = DistilBertTokenizerFast.from_pretrained(diretorio_finetunning_modelo_final)\n",
    "model = DistilBertForSequenceClassification.from_pretrained(diretorio_finetunning_modelo_final)\n",
    "\n",
    "# Carregamento do índice FAISS\n",
    "print(f\"Carregando índice FAISS de {faiss_index_path}...\")\n",
    "faiss_index = faiss.read_index(faiss_index_path)\n",
    "print(f\"Índice FAISS carregado com {faiss_index.ntotal} vetores.\")"
   ]
  },
  {
   "cell_type": "markdown",
   "id": "f249cd5d-14f1-4b5f-b961-cf1ab10df116",
   "metadata": {},
   "source": [
    "**Processamento de Perguntas e Respostas**"
   ]
  },
  {
   "cell_type": "markdown",
   "id": "0de40723-d2d5-449f-9797-451b08baa1ba",
   "metadata": {},
   "source": [
    "Carregamos funções que encontram o bloco mais relevante de um contexto, identificam produtos relevantes em um DataFrame e classificam a relevância de blocos com base em uma pergunta."
   ]
  },
  {
   "cell_type": "code",
   "execution_count": 4,
   "id": "4b953ea7-27b8-414e-9490-0ab719db1a32",
   "metadata": {},
   "outputs": [],
   "source": [
    "def find_most_relevant_block(question, context):\n",
    "    \"\"\"\n",
    "    Encontra o bloco mais relevante do contexto com base na pergunta.\n",
    "    \n",
    "    Args:\n",
    "        question (str): A pergunta a ser avaliada.\n",
    "        context (str): O texto do contexto a ser avaliado.\n",
    "        \n",
    "    Returns:\n",
    "        str: O bloco mais relevante traduzido.\n",
    "    \"\"\"\n",
    "    \n",
    "    relevance_scores = classificar_relevancia_bloco(question, context)\n",
    "    \n",
    "    if not relevance_scores:\n",
    "        return \"Nenhum bloco relevante encontrado.\"\n",
    "\n",
    "    best_block, best_score = relevance_scores[0]\n",
    "    best_block_pt = traduzir_texto(best_block)  # Traduzir o bloco para o português\n",
    "    \n",
    "    return f\"\\n{best_block_pt}\"\n",
    "\n",
    "\n",
    "def find_top_relevant_products(question, dataframe, top_n=3):\n",
    "    \"\"\"\n",
    "    Encontra os três produtos mais relevantes com base na pergunta, processando um DataFrame.\n",
    "    \n",
    "    Args:\n",
    "        question (str): A pergunta a ser avaliada.\n",
    "        dataframe (pd.DataFrame): O DataFrame contendo os livros e seus conteúdos.\n",
    "        top_n (int): O número de produtos mais relevantes a serem retornados.\n",
    "        \n",
    "    Returns:\n",
    "        list of tuple: Lista dos produtos mais relevantes, com seus blocos mais relevantes e pontuações.\n",
    "    \"\"\"\n",
    "    \n",
    "    all_relevance_scores = []\n",
    "\n",
    "    # Use tqdm para adicionar uma barra de progresso\n",
    "    for _, row in tqdm(dataframe.iterrows(), total=dataframe.shape[0], desc=\"Processando produtos\"):\n",
    "        titulo = row['title']\n",
    "        contexto = row['content']\n",
    "        relevance_scores = classificar_relevancia_bloco(question, contexto)\n",
    "        if relevance_scores:\n",
    "            best_block, best_score = relevance_scores[0]  # Melhor bloco\n",
    "            all_relevance_scores.append((titulo, best_block, best_score))\n",
    "\n",
    "    all_relevance_scores.sort(key=lambda x: x[2], reverse=True)\n",
    "    top_produtos = all_relevance_scores[:top_n]\n",
    "\n",
    "    return top_produtos\n",
    "\n",
    "\n",
    "def classificar_relevancia_bloco(question, context, block_size=100):\n",
    "    \"\"\"\n",
    "    Classifica a relevância dos blocos de um contexto com base na pergunta.\n",
    "    \n",
    "    Args:\n",
    "        question (str): A pergunta a ser avaliada.\n",
    "        context (str): O texto do contexto a ser dividido em blocos.\n",
    "        block_size (int): O número máximo de palavras em cada bloco.\n",
    "        \n",
    "    Returns:\n",
    "        list of tuple: Lista de blocos e suas pontuações de relevância, ordenada pela pontuação.\n",
    "    \"\"\"\n",
    "    \n",
    "    relevance_scores = []\n",
    "    blocks = split_context_into_blocks(context, block_size)\n",
    "\n",
    "    for block in blocks:\n",
    "        inputs = tokenizer.encode_plus(question, block, return_tensors='pt', max_length=512, truncation=True)\n",
    "        \n",
    "        with torch.no_grad():\n",
    "            outputs = model(**inputs)\n",
    "        \n",
    "        logits = outputs.logits\n",
    "        score = torch.softmax(logits, dim=1).max(dim=1).values.item()  # Pegamos a probabilidade da classe mais provável\n",
    "        relevance_scores.append((block, score))\n",
    "\n",
    "    relevance_scores.sort(key=lambda x: x[1], reverse=True)\n",
    "    \n",
    "    return relevance_scores"
   ]
  },
  {
   "cell_type": "markdown",
   "id": "94bcaefb-e46b-46bb-b684-7197bbb17952",
   "metadata": {},
   "source": [
    "**Teste e Exibição de Resultados**"
   ]
  },
  {
   "cell_type": "markdown",
   "id": "5db41e9f-46ae-4929-8c87-b8f23d1c6e5f",
   "metadata": {},
   "source": [
    "Usamos uma pergunta específica para testar o código com uma pequena amostra de dados, encontrando o bloco mais relevante e traduzindo a resposta."
   ]
  },
  {
   "cell_type": "code",
   "execution_count": 5,
   "id": "906b2b1d-abce-4774-9ddc-0ee83e20da1d",
   "metadata": {},
   "outputs": [
    {
     "name": "stdout",
     "output_type": "stream",
     "text": [
      "Do que trata-se este produto?\n",
      "\n",
      "--- Título: Rada Cutlery S6S 6-piece Serrated Steak Knives Gift Set ---\n",
      "Resposta (pt): \n",
      "Seis facas serrilhadas para bife. Conjunto para presente (seis facas serrilhadas para bife). Cabo de resina de aço inoxidável preto (melhor tolerância à máquina de lavar louça). Fabricado nos EUA desde 1948. Garantia vitalícia. Facas feitas nos Estados Unidos.\n",
      "\n",
      "\n",
      "--- Título: Ground Hide Glue, 1 Pound ---\n",
      "Resposta (pt): \n",
      "Ground Hide Glue é um pó finamente moído que é misturado aproximadamente 50/50 com água quente e mantido aquecido durante o uso. Embora essa cola tenha uma pega rápida, ela ainda permite que você reposicione a peça por um longo período antes de endurecer. Ground Hide Glue é amplamente usada em folheados de madeira e na indústria de marcenaria.\n",
      "\n",
      "\n",
      "--- Título: Presenting Felix the Cat: The Otto Messmer Classics 1919 - 24 ---\n",
      "Resposta (pt): \n",
      "Felix the Cat foi o primeiro superstar animado, e esses primeiros curtas revelam a fonte da popularidade fenomenal do personagem. O animador Otto Messmer criou Felix para \"Feline Follies\", um desenho animado de uma cena só, projetado para preencher uma lacuna em uma edição da Paramount Screen Magazine. Messmer aprendeu a usar mímica e expressões estudando os filmes de Charlie Chaplin, e mesmo em seu filme de estreia relativamente bruto, Felix parece vivo. Os personagens do desenho animado \"Bobby Bumps\", que apareceram na mesma edição da Screen Magazine, parecem rígidos e desinteressantes em comparação. Em \"Felix Turns the Tide\" (1922), o corajoso\n",
      "\n",
      "\n",
      "--- Título: War Without End, Amen: A Vietnam Story ---\n",
      "Resposta (pt): \n",
      "Tim Coder é um jornalista aposentado de agência de notícias e jornal que trabalhou em Omaha, Chicago e Albuquerque. Ele serviu na 101ª Divisão Aerotransportada em 1969-70 como líder de esquadrão de infantaria e, mais tarde, como escritor nos escritórios de informações do Primeiro Batalhão e da Terceira Brigada. Ele é bacharel em Artes Clássicas pela Creighton University e mestre em Ciências pela Columbia University Graduate School of Journalism. Ele e sua esposa, Monica, moram em Corrales, Novo México. \"War Without End, Amen: A Vietnam Story\" é seu primeiro romance. Ele pode ser contatado em timcoder129@gmail.com.\n",
      "\n",
      "\n",
      "--- Título: Absorbine Ultra Strength Pain Relief Patch, Large (PACK OF 3) ---\n",
      "Resposta (pt): \n",
      "6,5% Mentol Patch Analgésico Tópico AbsorbineTM Ultra Strength Pain Relief Patch é a maneira segura e conveniente de aliviar dores musculares e nas costas. O adesivo tem um suporte macio e flexível que adere e remove facilmente - ele dobra e flexiona conforme você se move. AbsorbineTM Ultra Strength Pain Relief Patch não é oleoso nem fedorento e pode ser usado por baixo da roupa sem ser detectado. NOTA: Se desejar, corte o adesivo no tamanho certo. Descarte o adesivo após cada aplicação. LEIA TODOS OS AVISOS E INSTRUÇÕES NA EMBALAGEM DO PRODUTO\n",
      "\n",
      "\n",
      "--- Título: Displaying Pictures and Photographs ---\n",
      "Resposta (pt): \n",
      "Para a maioria das pessoas, o momento da verdade na decoração de um cômodo acontece quando elas se deparam com a decisão do que pendurar nas paredes, como emoldurar e onde pendurar. Agora, aqui estão centenas de ideias sobre como dar o toque final crucial a qualquer cômodo! 150 fotografias coloridas e 100 diagramas.\n",
      "\n",
      "\n",
      "--- Título: Essentials of Federal Income Taxation for Individuals and Business (2013) ---\n",
      "Resposta (pt): \n",
      "Linda M. Johnson, Ph.D., CPA, recebeu seu diploma de Bacharel em Ciências Contábeis pela University of Illinois, Urbana-Champaign e seu doutorado pela Arizona State University. Em seus mais de 20 anos de ensino universitário em cursos de graduação e pós-graduação em impostos, a Professora Johnson recebeu mais de uma dúzia de prêmios de ensino departamentais, de faculdade e universitários, incluindo o prêmio de ensino mais alto da universidade enquanto estava no corpo docente da Northern Illinois University e como assistente de ensino na Arizona State University. Além de ser autora de Essentials, a Professora Johnson é a editora coordenadora do Federal Tax Course do CCH. Sua experiência profissional inclui trabalhar\n",
      "\n",
      "\n",
      "--- Título: Cougar MG100 Cases ---\n",
      "Resposta (pt): \n",
      "Com uma ventoinha traseira de 120 mm pré-instalada e suportes reservados para três ventoinhas extras, o Cougar MG100 garante resfriamento perfeito para seu equipamento hoje e seus componentes atualizados no futuro.\n",
      "\n",
      "\n",
      "--- Título: Peace From Broken Pieces: How to Get Through What You're Going Through ---\n",
      "Resposta (pt): \n",
      "Reveladora, tocante e perspicaz... a história de Iyanla é leitura obrigatória para qualquer um que realmente busca crescimento e cura. Pride Magazine 20110801--Este texto se refere a uma edição fora de catálogo ou indisponível deste título.\n",
      "\n",
      "\n",
      "--- Título: Warlords Rising: Confronting Violent Non-State Actors ---\n",
      "Resposta (pt): \n",
      "e seus aliados. (Col. Russ Howard, diretor do Centro de Combate ao Terrorismo, Academia Militar dos EUA)\n",
      "\n"
     ]
    }
   ],
   "source": [
    "# Perguntas específicas\n",
    "pergunta = \"Do que trata-se este produto?\"\n",
    "print(pergunta)\n",
    "\n",
    "# Exemplo de uso com dados do DataFrame\n",
    "for _, row in dados.head(10).iterrows():  # Limitar a quantidade para teste\n",
    "    titulo = row['title']\n",
    "    contexto = row['content']\n",
    "    \n",
    "    print(f\"\\n--- Título: {titulo} ---\")\n",
    "    \n",
    "    resposta = find_most_relevant_block(pergunta, contexto)\n",
    "    print(f\"Resposta (pt): {resposta}\\n\")"
   ]
  },
  {
   "cell_type": "markdown",
   "id": "5b90d1bd-6d3b-4c19-bf7e-75bd3930284a",
   "metadata": {},
   "source": [
    "Configuramos a pergunta para retornar os três produtos mais relevantes e exibimos os resultados com a descrição traduzida."
   ]
  },
  {
   "cell_type": "code",
   "execution_count": 6,
   "id": "f95b9bee-0ca9-47b4-b827-a30bca711e91",
   "metadata": {},
   "outputs": [
    {
     "name": "stderr",
     "output_type": "stream",
     "text": [
      "Processando produtos: 100%|██████████████████████████████████████████████████████████████████████████████| 100000/100000 [4:01:50<00:00,  6.89it/s]\n"
     ]
    },
    {
     "name": "stdout",
     "output_type": "stream",
     "text": [
      "\n",
      "--- Produto 1: Shadow Tag: A Novel ---\n",
      "Descrição traduzida: Gil. Erdrich alterna habilmente entre trechos desses dois diários e narração em terceira pessoa enquanto ela trama a guerra emocional entre Irene e Gil, e o lado sombrio de Gil se torna cada vez mais aparente enquanto Irene, lutando contra seu próprio alcoolismo, luta para escapar. Erdrich une seus vários temas com uma metáfora intrigante &mdash;riffing sobre crenças nativas americanas sobre retratos como sombras e sombras como almas &mdash;enquanto seu ritmo constante e notável percepção sobre a vida interior das crianças se combinam para fazer deste um romance satisfatório e envolvente. (fev.) Copyright &copy; Reed Business Information, uma divisão da Reed Elsevier Inc. Todos os direitos reservados.\n",
      "\n",
      "\n",
      "--- Produto 2:  ---\n",
      "Descrição traduzida: Mary Flower, indicada ao prêmio Blues Music Award de 2008 como \"Artista Acústica do Ano\", é conhecida por uma visão pessoal única da música roots que mistura ragtime, blues acústico e estilos folk. Tecnicamente deslumbrante, mas fundamentada na simplicidade realista da música americana do início do século XX, Mary ostenta mais diversidade estilística do que qualquer outro artista atualmente atuando sob a bandeira do \"blues acústico\". Flower recebeu ótimas críticas de críticos e do público por seus vocais naturais e despretensiosos, mas é sua habilidade instrumental - um domínio do difícil estilo de guitarra de blues do Piemonte que leva a maioria dos músicos uma vida inteira para\n",
      "\n",
      "\n",
      "--- Produto 3: Honey Hunt, Vol. 1 ---\n",
      "Descrição traduzida: triângulo (um grampo de Aihara) envolvendo Yura, Q-Ta Minamitani, um compositor galã, e seu irmão gêmeo mais ameaçador, Haruka Minamitani, um ator e músico. Há reviravoltas incessantes na jornada de Yura, incluindo um colapso público e uma traição de sua mãe. Ao longo de todo o filme, a delicada arte de Aihara ilustra vibrantemente a vida emocional constantemente flutuante de Yura, especialmente seus momentos de pânico, confusão e dúvida. A diferença entre a representação da pateta e às vezes deselegante Yura e sua mãe glamorosa e os elegantes irmãos Minamitani deixa sua autoimagem clara. (Abr.) Copyright &copy; Reed Business Information, uma divisão da Reed Elsevier Inc. Todos os direitos reservados.\n",
      "\n"
     ]
    }
   ],
   "source": [
    "pergunta = \"Poderia me retornar os três produtos mais relevantes ?\"\n",
    "\n",
    "# Exemplo de uso com dados do DataFrame\n",
    "top_produtos = find_top_relevant_products(pergunta, dados)\n",
    "\n",
    "# Exibir os melhores produtos\n",
    "for i, (titulo, bloco, score) in enumerate(top_produtos, 1):\n",
    "    bloco_pt = traduzir_texto(bloco)\n",
    "    print(f\"\\n--- Produto {i}: {titulo} ---\")\n",
    "    print(f\"Descrição traduzida: {bloco_pt}\\n\")"
   ]
  }
 ],
 "metadata": {
  "kernelspec": {
   "display_name": "Python 3 (ipykernel)",
   "language": "python",
   "name": "python3"
  },
  "language_info": {
   "codemirror_mode": {
    "name": "ipython",
    "version": 3
   },
   "file_extension": ".py",
   "mimetype": "text/x-python",
   "name": "python",
   "nbconvert_exporter": "python",
   "pygments_lexer": "ipython3",
   "version": "3.12.4"
  }
 },
 "nbformat": 4,
 "nbformat_minor": 5
}
